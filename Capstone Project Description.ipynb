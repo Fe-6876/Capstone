{
 "cells": [
  {
   "cell_type": "markdown",
   "metadata": {
    "collapsed": true
   },
   "source": [
    "# Introduction"
   ]
  },
  {
   "cell_type": "markdown",
   "metadata": {},
   "source": [
    "<p>The Capstone analysis project will focus on the comparison of the two cities of London and Berlin. Both cities are very diverse and are the capitals of their respective countries. London’s and Berlin’s demographics show that both are large and ethnically diverse metropoles. London was home to 9,4 million people in 2021, with the population increasing by 1.31% compared to the previous year. While Berlin had a population of 3,56 million in 2021 up by 0.14% in contrast to the previous year.</p>\n",
    "We are aiming to compare the neighbourhoods of the two cities and determine how similar or dissimilar they are, taking crime statistics, population numbers and the geographical location of police stations into account. I will aim to explore in how far the two cities vary in the distribution of these demographic and geographical data, to determine whether one city could be considered safer than the other, or whether particular areas within these cities could be considered more safe than others to inform a business whether to relocate to one of the cities in Europe.\n"
   ]
  },
  {
   "cell_type": "markdown",
   "metadata": {},
   "source": [
    "# Data"
   ]
  },
  {
   "cell_type": "markdown",
   "metadata": {},
   "source": [
    "<p>The following datasets will be used for this project, using a combination of methods including web scrapping, foursquare api data and reading of csv.files.</p>\n",
    "**London Data:**\n",
    "\t\n",
    "*[1]:  \"Crime rates in London by Borough\"\n",
    "\t\n",
    "*[2]:  \"London Boroughs & Population data from Wikipedia\"\n",
    "\t\n",
    "*[3]: \"Foursquare London Location data for Police Stations\"\n",
    "    \n",
    "<p>**Berlin Data:**</p>\n",
    "\t\n",
    "*[1]: \"Crime rates in Berlin by Borough\"\n",
    "\t\n",
    "*[2]:  \"Berlin Borough & Population data from Wikipedia\"\n",
    "\t\n",
    "*[3]: \"Foursquare Berlin Location data for Police Stations\"\n"
   ]
  },
  {
   "cell_type": "markdown",
   "metadata": {},
   "source": [
    "# Methodology:"
   ]
  },
  {
   "cell_type": "markdown",
   "metadata": {},
   "source": [
    "We will use a variety of techniques learned in this course as part of the methodology to assess and analyse the available data sets. The data will be cleaned and grouped to perform meaningful analysis.  We will use Foursquare location data to determine the spatial distribution of police stations in conjunction with crime data by borough for the respective cities. We will further explore population density in the city boroughs of Berlin and London to see whether there is a relationship between population numbers and crime rates."
   ]
  },
  {
   "cell_type": "markdown",
   "metadata": {},
   "source": [
    "# Problem Statement:"
   ]
  },
  {
   "cell_type": "markdown",
   "metadata": {},
   "source": [
    "To compare the two cities of London and Berlin in terms of crime and demographic data to assess whether one city or particular areas could be considered safer than others. This information could will be used to consider whether to relocate a business to one of the analysed metropoles in Europe."
   ]
  }
 ],
 "metadata": {
  "kernelspec": {
   "display_name": "Python 3.7",
   "language": "python",
   "name": "python3"
  },
  "language_info": {
   "codemirror_mode": {
    "name": "ipython",
    "version": 3
   },
   "file_extension": ".py",
   "mimetype": "text/x-python",
   "name": "python",
   "nbconvert_exporter": "python",
   "pygments_lexer": "ipython3",
   "version": "3.7.9"
  }
 },
 "nbformat": 4,
 "nbformat_minor": 1
}
